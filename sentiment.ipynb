{
  "nbformat": 4,
  "nbformat_minor": 0,
  "metadata": {
    "colab": {
      "provenance": []
    },
    "kernelspec": {
      "name": "python3",
      "display_name": "Python 3"
    },
    "language_info": {
      "name": "python"
    }
  },
  "cells": [
    {
      "cell_type": "code",
      "execution_count": null,
      "metadata": {
        "id": "sSxeLMJ2oqDr"
      },
      "outputs": [],
      "source": [
        "!pip install vaderSentiment\n",
        "\n",
        "from vaderSentiment.vaderSentiment import SentimentIntensityAnalyzer\n"
      ]
    },
    {
      "cell_type": "code",
      "source": [
        "from google.colab import drive\n",
        "drive.mount('/content/drive')\n"
      ],
      "metadata": {
        "colab": {
          "base_uri": "https://localhost:8080/"
        },
        "id": "NaLFpPx0q8FP",
        "outputId": "2b44c373-17fb-4790-bc78-20220ed9b080"
      },
      "execution_count": null,
      "outputs": [
        {
          "output_type": "stream",
          "name": "stdout",
          "text": [
            "Mounted at /content/drive\n"
          ]
        }
      ]
    },
    {
      "cell_type": "code",
      "source": [
        "import pandas as pd"
      ],
      "metadata": {
        "id": "SzB21FESrPqy"
      },
      "execution_count": null,
      "outputs": []
    },
    {
      "cell_type": "code",
      "source": [
        "analyzer = SentimentIntensityAnalyzer()\n",
        "\n",
        "def analyze_sentiment_vader(text):\n",
        "    # 确保输入是字符串类型\n",
        "    if pd.isna(text):\n",
        "        return 0  # 如果文本是NaN，则返回中性的情绪分数0\n",
        "    sentiment_score = analyzer.polarity_scores(str(text))\n",
        "    return sentiment_score['compound']\n"
      ],
      "metadata": {
        "id": "RFH9sF9frRQ0"
      },
      "execution_count": null,
      "outputs": []
    },
    {
      "cell_type": "code",
      "source": [
        "file_path1 = '/content/drive/My Drive/Colab Notebooks/merged_post.csv'\n",
        "df1 = pd.read_csv(file_path1)\n",
        "\n",
        "# 对 'processed_title' 和 'processed_content' 进行情感分析\n",
        "df1['title_sentiment'] = df1['processed_title'].apply(analyze_sentiment_vader)\n",
        "df1['content_sentiment'] = df1['processed_content'].apply(analyze_sentiment_vader)\n"
      ],
      "metadata": {
        "id": "sBLdcjLIr27e"
      },
      "execution_count": null,
      "outputs": []
    },
    {
      "cell_type": "code",
      "source": [
        "# 对评论进行情感分析\n",
        "file_path2 = '/content/drive/My Drive/Colab Notebooks/merged_comments.csv'\n",
        "df2 = pd.read_csv(file_path2)\n",
        "\n",
        "df2['comment_sentiment'] = df2['processed_comment_body'].apply(analyze_sentiment_vader)"
      ],
      "metadata": {
        "id": "B34AotWIu52i"
      },
      "execution_count": null,
      "outputs": []
    },
    {
      "cell_type": "code",
      "source": [
        "import matplotlib.pyplot as plt\n",
        "import seaborn as sns\n",
        "\n",
        "# 设置图表风格\n",
        "sns.set(style=\"whitegrid\")\n",
        "\n",
        "# 第一个图：Title Sentiment\n",
        "plt.figure(figsize=(8, 6))\n",
        "sns.histplot(df1['title_sentiment'], bins=20, kde=True, color='orange')\n",
        "plt.title('Title Sentiment Score Distribution')\n",
        "plt.xlabel('Sentiment Score')\n",
        "plt.ylabel('Count')\n",
        "plt.show()\n",
        "\n",
        "# 第二个图：Content Sentiment\n",
        "plt.figure(figsize=(8, 6))\n",
        "sns.histplot(df1['content_sentiment'], bins=20, kde=True, color='skyblue')\n",
        "plt.title('Content Sentiment Score Distribution')\n",
        "plt.xlabel('Sentiment Score')\n",
        "plt.ylabel('Count')\n",
        "plt.show()\n",
        "\n",
        "# 第三个图：Comment Sentiment\n",
        "plt.figure(figsize=(8, 6))\n",
        "sns.histplot(df2['comment_sentiment'], bins=20, kde=True, color='green')\n",
        "plt.title('Comment Sentiment Score Distribution')\n",
        "plt.xlabel('Sentiment Score')\n",
        "plt.ylabel('Count')\n",
        "plt.show()\n",
        "\n",
        "# 第四个图：合并KDE曲线\n",
        "plt.figure(figsize=(8, 6))\n",
        "sns.kdeplot(df1['title_sentiment'], shade=True, color='orange', label='Title Sentiment')\n",
        "sns.kdeplot(df1['content_sentiment'], shade=True, color='skyblue', label='Content Sentiment')\n",
        "sns.kdeplot(df2['comment_sentiment'], shade=True, color='green', label='Comment Sentiment')\n",
        "plt.title('Combined Sentiment Score KDE')\n",
        "plt.xlabel('Sentiment Score')\n",
        "plt.ylabel('Density')\n",
        "plt.legend()\n",
        "plt.show()\n"
      ],
      "metadata": {
        "id": "DJS3A9RK0OKH"
      },
      "execution_count": null,
      "outputs": []
    },
    {
      "cell_type": "code",
      "source": [],
      "metadata": {
        "id": "P6QkgNBfHPAC"
      },
      "execution_count": null,
      "outputs": []
    }
  ]
}